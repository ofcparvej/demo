{
 "cells": [
  {
   "cell_type": "code",
   "execution_count": 1,
   "id": "64e39395-e48d-472a-9be3-8f29e53990d6",
   "metadata": {},
   "outputs": [
    {
     "name": "stdout",
     "output_type": "stream",
     "text": [
      "Out-of-Bag Score: 0.895\n"
     ]
    }
   ],
   "source": [
    "from sklearn.ensemble import RandomForestClassifier\n",
    "from sklearn.datasets import make_classification\n",
    "\n",
    "X, y = make_classification(n_samples = 1000, n_features = 20, n_classes = 2, random_state = 42)\n",
    "\n",
    "rf_classifier = RandomForestClassifier(n_estimators = 100, oob_score = True, random_state = 42)\n",
    "\n",
    "rf_classifier.fit(X, y)\n",
    "\n",
    "oob_score = rf_classifier.oob_score_\n",
    "print(\"Out-of-Bag Score:\", oob_score)"
   ]
  },
  {
   "cell_type": "code",
   "execution_count": null,
   "id": "c4a3967d-7612-41fd-8b60-7cdf07f2e3a4",
   "metadata": {},
   "outputs": [],
   "source": []
  }
 ],
 "metadata": {
  "kernelspec": {
   "display_name": "Python 3 (ipykernel)",
   "language": "python",
   "name": "python3"
  },
  "language_info": {
   "codemirror_mode": {
    "name": "ipython",
    "version": 3
   },
   "file_extension": ".py",
   "mimetype": "text/x-python",
   "name": "python",
   "nbconvert_exporter": "python",
   "pygments_lexer": "ipython3",
   "version": "3.10.0"
  }
 },
 "nbformat": 4,
 "nbformat_minor": 5
}
